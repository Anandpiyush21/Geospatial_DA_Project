{
 "cells": [
  {
   "cell_type": "code",
   "execution_count": null,
   "metadata": {},
   "outputs": [
    {
     "name": "stdout",
     "output_type": "stream",
     "text": [
      "Columns in the CSV:\n",
      "Index(['system:index', 'NDVI', 'date', 'latitude', 'longitude', '.geo'], dtype='object')\n",
      "\n",
      "First 5 rows in the CSV:\n",
      "     system:index    NDVI        date   latitude  longitude  \\\n",
      "0  2010_01_01_0_0  0.3633  2010-01-01  16.056737  76.506498   \n",
      "1  2010_01_01_1_0  0.5937  2010-01-01  16.090461  76.748791   \n",
      "2  2010_01_01_2_0  0.3168  2010-01-01  15.726236  76.754677   \n",
      "3  2010_01_01_3_0  0.4591  2010-01-01  16.128682  76.574005   \n",
      "4  2010_01_01_4_0  0.4924  2010-01-01  16.025261  77.313135   \n",
      "\n",
      "                                                .geo  \n",
      "0  {\"geodesic\":false,\"type\":\"Point\",\"coordinates\"...  \n",
      "1  {\"geodesic\":false,\"type\":\"Point\",\"coordinates\"...  \n",
      "2  {\"geodesic\":false,\"type\":\"Point\",\"coordinates\"...  \n",
      "3  {\"geodesic\":false,\"type\":\"Point\",\"coordinates\"...  \n",
      "4  {\"geodesic\":false,\"type\":\"Point\",\"coordinates\"...  \n"
     ]
    }
   ],
   "source": [
    "import pandas as pd\n",
    "\n",
    "file_path = r'1_Raichur_NDVI_SampledPoints_2010_2023.csv'\n",
    "\n",
    "data = pd.read_csv(file_path)\n",
    "\n",
    "print(\"Columns in the CSV:\")\n",
    "print(data.columns)\n",
    "\n",
    "print(\"\\nFirst 5 rows in the CSV:\")\n",
    "print(data.head())\n"
   ]
  },
  {
   "cell_type": "code",
   "execution_count": null,
   "metadata": {},
   "outputs": [
    {
     "name": "stdout",
     "output_type": "stream",
     "text": [
      "\n",
      "Data after dropping 'system:index' and '.geo':\n",
      "     NDVI        date   latitude  longitude\n",
      "0  0.3633  2010-01-01  16.056737  76.506498\n",
      "1  0.5937  2010-01-01  16.090461  76.748791\n",
      "2  0.3168  2010-01-01  15.726236  76.754677\n",
      "3  0.4591  2010-01-01  16.128682  76.574005\n",
      "4  0.4924  2010-01-01  16.025261  77.313135\n"
     ]
    }
   ],
   "source": [
    "data = data.drop(columns=['system:index', '.geo'])\n",
    "\n",
    "print(\"\\nData after dropping 'system:index' and '.geo':\")\n",
    "print(data.head())\n",
    "\n",
    "output_file_path = r'2_Processed_Raichur_NDVI_SampledPoints.csv'\n",
    "data.to_csv(output_file_path, index=False)"
   ]
  },
  {
   "cell_type": "code",
   "execution_count": null,
   "metadata": {},
   "outputs": [
    {
     "name": "stdout",
     "output_type": "stream",
     "text": [
      "\n",
      "Grouped data by latitude and longitude with count of data points:\n",
      "      latitude  longitude  count\n",
      "0    15.650239  76.733093      5\n",
      "1    15.650684  76.733260      1\n",
      "2    15.652042  76.733769    215\n",
      "3    15.652042  76.733769     62\n",
      "4    15.652042  76.733769     18\n",
      "..         ...        ...    ...\n",
      "245  16.468176  77.016256    216\n",
      "246  16.468176  77.016256     62\n",
      "247  16.468176  77.016256     18\n",
      "248  16.468621  77.016433      5\n",
      "249  16.469066  77.016610      1\n",
      "\n",
      "[250 rows x 3 columns]\n"
     ]
    }
   ],
   "source": [
    "grouped_data = data.groupby(['latitude', 'longitude']).size().reset_index(name='count')\n",
    "\n",
    "print(\"\\nGrouped data by latitude and longitude with count of data points:\")\n",
    "print(grouped_data)\n",
    "\n",
    "output_grouped_file = r'3_Grouped_Raichur_NDVI_SampledPoints.csv'\n",
    "grouped_data.to_csv(output_grouped_file, index=False)"
   ]
  },
  {
   "cell_type": "code",
   "execution_count": null,
   "metadata": {},
   "outputs": [
    {
     "name": "stdout",
     "output_type": "stream",
     "text": [
      "Processed CSV saved to: 4_Grouped_Raichur_NDVI_SampledPoints_Summed.csv\n"
     ]
    }
   ],
   "source": [
    "import pandas as pd\n",
    "\n",
    "csv_path = r\"3_Grouped_Raichur_NDVI_SampledPoints.csv\"\n",
    "\n",
    "df = pd.read_csv(csv_path)\n",
    "\n",
    "df['latitude'] = df['latitude'].round(2)\n",
    "df['longitude'] = df['longitude'].round(2)\n",
    "\n",
    "grouped_df = df.groupby(['latitude', 'longitude'], as_index=False).agg({'count': 'sum'})\n",
    "\n",
    "output_path = r\"4_Grouped_Raichur_NDVI_SampledPoints_Summed.csv\"\n",
    "\n",
    "grouped_df.to_csv(output_path, index=False)\n",
    "\n",
    "print(\"Processed CSV saved to:\", output_path)\n"
   ]
  },
  {
   "cell_type": "code",
   "execution_count": null,
   "metadata": {},
   "outputs": [
    {
     "name": "stdout",
     "output_type": "stream",
     "text": [
      "Filtered CSV saved to: 5_Grouped_Raichur_NDVI_SampledPoints_Filtered.csv\n"
     ]
    }
   ],
   "source": [
    "import pandas as pd\n",
    "\n",
    "csv_path = r\"4_Grouped_Raichur_NDVI_SampledPoints_Summed.csv\"\n",
    "\n",
    "df = pd.read_csv(csv_path)\n",
    "\n",
    "filtered_df = df[df['count'] > 250]\n",
    "\n",
    "output_path = r\"5_Grouped_Raichur_NDVI_SampledPoints_Filtered.csv\"\n",
    "\n",
    "filtered_df.to_csv(output_path, index=False)\n",
    "\n",
    "print(\"Filtered CSV saved to:\", output_path)\n"
   ]
  },
  {
   "cell_type": "code",
   "execution_count": null,
   "metadata": {},
   "outputs": [
    {
     "name": "stdout",
     "output_type": "stream",
     "text": [
      "Data has been organized and saved in C:\\Users\\anand\\Code_basics\\GDA\\GDA_Project\\GDA_Final\\Raichur.\n"
     ]
    }
   ],
   "source": [
    "import os\n",
    "import pandas as pd\n",
    "\n",
    "# Path to the input CSV file\n",
    "csv_path = r\"5_Processed_Raichur_NDVI_SampledPoints_Filtered.csv\"\n",
    "\n",
    "df = pd.read_csv(csv_path)\n",
    "\n",
    "df['latitude'] = df['latitude'].round(2)\n",
    "df['longitude'] = df['longitude'].round(2)\n",
    "\n",
    "raichur_folder = r\"Raichur\"\n",
    "if not os.path.exists(raichur_folder):\n",
    "    os.makedirs(raichur_folder)\n",
    "\n",
    "lat_lon_to_folder = {}\n",
    "\n",
    "location_counter = 1\n",
    "\n",
    "for (lat, lon), group in df.groupby(['latitude', 'longitude']):\n",
    "    location_folder = os.path.join(raichur_folder, f\"Location{location_counter}\")\n",
    "    os.makedirs(location_folder)\n",
    "    \n",
    "    location_data = group[['NDVI', 'date', 'latitude', 'longitude']]\n",
    "    location_data.to_csv(os.path.join(location_folder, f\"data_{lat}_{lon}.csv\"), index=False)\n",
    "    \n",
    "    lat_lon_to_folder[f\"{lat},{lon}\"] = f\"Location{location_counter}\"\n",
    "    \n",
    "    location_counter += 1\n",
    "\n",
    "with open(os.path.join(raichur_folder, \"lat_lon_to_folder_mapping.txt\"), 'w') as f:\n",
    "    for lat_lon, folder_name in lat_lon_to_folder.items():\n",
    "        f.write(f\"{lat_lon} -> {folder_name}\\n\")\n",
    "\n",
    "print(f\"Data has been organized and saved in {raichur_folder}.\")\n"
   ]
  }
 ],
 "metadata": {
  "kernelspec": {
   "display_name": "base",
   "language": "python",
   "name": "python3"
  },
  "language_info": {
   "codemirror_mode": {
    "name": "ipython",
    "version": 3
   },
   "file_extension": ".py",
   "mimetype": "text/x-python",
   "name": "python",
   "nbconvert_exporter": "python",
   "pygments_lexer": "ipython3",
   "version": "3.9.13"
  }
 },
 "nbformat": 4,
 "nbformat_minor": 2
}
